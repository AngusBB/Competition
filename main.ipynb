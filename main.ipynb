{
 "cells": [
  {
   "cell_type": "markdown",
   "source": [
    "# pre_Data-Format\n",
    "### Step_1. FormatOfficial2Yolo"
   ],
   "metadata": {
    "collapsed": false
   }
  },
  {
   "cell_type": "code",
   "execution_count": 9,
   "outputs": [
    {
     "name": "stdout",
     "output_type": "stream",
     "text": [
      "1. Renaming Training Dataset_v5 --> Training_Dataset_v5\r\n",
      "2. Backing-up Labels to Dataset/Training_Dataset_v5/labels_origin/...\r\n",
      "100%|█████████████████████████████████████| 1000/1000 [00:00<00:00, 6317.84it/s]\r\n",
      "3. Formatting Official Labels to yolo Type...\r\n",
      "100%|███████████████████████████████████████| 1000/1000 [00:39<00:00, 25.58it/s]\r\n",
      "4. Moving Labels to Dataset/Training_Dataset_v5/labels\r\n",
      "100%|████████████████████████████████████| 1000/1000 [00:00<00:00, 15040.25it/s]\r\n",
      "5. Renaming Dataset/Training_Dataset_v5/train --> Dataset/Training_Dataset_v5/images\r\n"
     ]
    }
   ],
   "source": [
    "!python Code/pre_FormatOfficial2Yolo.py"
   ],
   "metadata": {
    "collapsed": false
   }
  },
  {
   "cell_type": "markdown",
   "source": [
    "# train_Model-Baseline\n",
    "### Step_2. Baseline model"
   ],
   "metadata": {
    "collapsed": false
   }
  },
  {
   "cell_type": "code",
   "execution_count": null,
   "outputs": [],
   "source": [
    "!cd yolov5\n",
    "\n"
   ],
   "metadata": {
    "collapsed": false,
    "pycharm": {
     "is_executing": true
    }
   }
  }
 ],
 "metadata": {
  "kernelspec": {
   "display_name": "Python 3",
   "language": "python",
   "name": "python3"
  },
  "language_info": {
   "codemirror_mode": {
    "name": "ipython",
    "version": 2
   },
   "file_extension": ".py",
   "mimetype": "text/x-python",
   "name": "python",
   "nbconvert_exporter": "python",
   "pygments_lexer": "ipython2",
   "version": "2.7.6"
  }
 },
 "nbformat": 4,
 "nbformat_minor": 0
}
