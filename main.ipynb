{
 "cells": [
  {
   "cell_type": "markdown",
   "source": [
    "# pre_Data-Transform\n",
    "### Step_1. Formatting2Yolo"
   ],
   "metadata": {
    "collapsed": false
   }
  },
  {
   "cell_type": "code",
   "execution_count": 4,
   "outputs": [
    {
     "name": "stdout",
     "output_type": "stream",
     "text": [
      "Formatting Official Labels to yolo Type...\r\n",
      "100%|███████████████████████████████████████| 1000/1000 [00:39<00:00, 25.39it/s]\r\n"
     ]
    }
   ],
   "source": [
    "!python Code/pre_Formatting2yolo.py"
   ],
   "metadata": {
    "collapsed": false
   }
  },
  {
   "cell_type": "code",
   "execution_count": null,
   "outputs": [],
   "source": [
    "# from code.pre_Formatting2yolo import pre_Formatting2yolo\n",
    "#\n",
    "# pre_Formatting2yolo()\n"
   ],
   "metadata": {
    "collapsed": false,
    "pycharm": {
     "is_executing": true
    }
   }
  }
 ],
 "metadata": {
  "kernelspec": {
   "display_name": "Python 3",
   "language": "python",
   "name": "python3"
  },
  "language_info": {
   "codemirror_mode": {
    "name": "ipython",
    "version": 2
   },
   "file_extension": ".py",
   "mimetype": "text/x-python",
   "name": "python",
   "nbconvert_exporter": "python",
   "pygments_lexer": "ipython2",
   "version": "2.7.6"
  }
 },
 "nbformat": 4,
 "nbformat_minor": 0
}
